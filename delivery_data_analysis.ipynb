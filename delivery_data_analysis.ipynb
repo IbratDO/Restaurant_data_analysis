{
 "cells": [
  {
   "cell_type": "markdown",
   "metadata": {},
   "source": [
    "<h3><center> Delivery Data Analysis </center></h3>"
   ]
  },
  {
   "cell_type": "markdown",
   "metadata": {},
   "source": [
    "This dataset was downloaded from Kaggle which is popular with large storage of different data. This data was gathered from NYC restaurant. It contains food order and delivery.\n",
    "\n",
    "#### Objective\n",
    "\n",
    "The food aggregator company has stored the data of the different orders made by the registered customers in their online portal. **They want to analyze the data to get a fair idea about the demand of different restaurants which will help them in enhancing their customer experience**. Suppose you are hired as a Data Scientist in this company and the Data Science team has shared some of the key questions that need to be answered. Perform the data analysis to find answers to these questions that will help the company to improve the business.\n",
    "\n",
    "The dataset contains the different data related to a food order. The detailed data dictionary is given below.\n",
    "- **order_id**: Unique ID of the order\n",
    "- **customer_id**: ID of the customer who ordered the food\n",
    "- **restaurant_name**: Name of the restaurant\n",
    "- **cuisine_type**: Cuisine ordered by the customer\n",
    "- **cost**: Cost of the order\n",
    "- **day_of_the_week**: Indicates whether the order is placed on a weekday or weekend (The weekday is from Monday to Friday and the weekend is Saturday and Sunday)\n",
    "- **rating**: Rating given by the customer out of 5\n",
    "- **food_preparation_time**: Time (in minutes) taken by the restaurant to prepare the food. This is calculated by taking the difference between the timestamps of the restaurant's order confirmation and the delivery person's pick-up confirmation.\n",
    "- **delivery_time**: Time (in minutes) taken by the delivery person to deliver the food package. This is calculated by taking the difference between the timestamps of the delivery person's pick-up confirmation and drop-off information"
   ]
  },
  {
   "cell_type": "markdown",
   "metadata": {},
   "source": [
    "### Understanding data"
   ]
  },
  {
   "cell_type": "code",
   "execution_count": 2,
   "metadata": {},
   "outputs": [
    {
     "data": {
      "text/html": [
       "<div>\n",
       "<style scoped>\n",
       "    .dataframe tbody tr th:only-of-type {\n",
       "        vertical-align: middle;\n",
       "    }\n",
       "\n",
       "    .dataframe tbody tr th {\n",
       "        vertical-align: top;\n",
       "    }\n",
       "\n",
       "    .dataframe thead th {\n",
       "        text-align: right;\n",
       "    }\n",
       "</style>\n",
       "<table border=\"1\" class=\"dataframe\">\n",
       "  <thead>\n",
       "    <tr style=\"text-align: right;\">\n",
       "      <th></th>\n",
       "      <th>order_id</th>\n",
       "      <th>customer_id</th>\n",
       "      <th>restaurant_name</th>\n",
       "      <th>cuisine_type</th>\n",
       "      <th>cost_of_the_order</th>\n",
       "      <th>day_of_the_week</th>\n",
       "      <th>rating</th>\n",
       "      <th>food_preparation_time</th>\n",
       "      <th>delivery_time</th>\n",
       "    </tr>\n",
       "  </thead>\n",
       "  <tbody>\n",
       "    <tr>\n",
       "      <th>0</th>\n",
       "      <td>1477147</td>\n",
       "      <td>337525</td>\n",
       "      <td>Hangawi</td>\n",
       "      <td>Korean</td>\n",
       "      <td>30.75</td>\n",
       "      <td>Weekend</td>\n",
       "      <td>Not given</td>\n",
       "      <td>25</td>\n",
       "      <td>20</td>\n",
       "    </tr>\n",
       "    <tr>\n",
       "      <th>1</th>\n",
       "      <td>1477685</td>\n",
       "      <td>358141</td>\n",
       "      <td>Blue Ribbon Sushi Izakaya</td>\n",
       "      <td>Japanese</td>\n",
       "      <td>12.08</td>\n",
       "      <td>Weekend</td>\n",
       "      <td>Not given</td>\n",
       "      <td>25</td>\n",
       "      <td>23</td>\n",
       "    </tr>\n",
       "    <tr>\n",
       "      <th>2</th>\n",
       "      <td>1477070</td>\n",
       "      <td>66393</td>\n",
       "      <td>Cafe Habana</td>\n",
       "      <td>Mexican</td>\n",
       "      <td>12.23</td>\n",
       "      <td>Weekday</td>\n",
       "      <td>5</td>\n",
       "      <td>23</td>\n",
       "      <td>28</td>\n",
       "    </tr>\n",
       "    <tr>\n",
       "      <th>3</th>\n",
       "      <td>1477334</td>\n",
       "      <td>106968</td>\n",
       "      <td>Blue Ribbon Fried Chicken</td>\n",
       "      <td>American</td>\n",
       "      <td>29.20</td>\n",
       "      <td>Weekend</td>\n",
       "      <td>3</td>\n",
       "      <td>25</td>\n",
       "      <td>15</td>\n",
       "    </tr>\n",
       "    <tr>\n",
       "      <th>4</th>\n",
       "      <td>1478249</td>\n",
       "      <td>76942</td>\n",
       "      <td>Dirty Bird to Go</td>\n",
       "      <td>American</td>\n",
       "      <td>11.59</td>\n",
       "      <td>Weekday</td>\n",
       "      <td>4</td>\n",
       "      <td>25</td>\n",
       "      <td>24</td>\n",
       "    </tr>\n",
       "    <tr>\n",
       "      <th>...</th>\n",
       "      <td>...</td>\n",
       "      <td>...</td>\n",
       "      <td>...</td>\n",
       "      <td>...</td>\n",
       "      <td>...</td>\n",
       "      <td>...</td>\n",
       "      <td>...</td>\n",
       "      <td>...</td>\n",
       "      <td>...</td>\n",
       "    </tr>\n",
       "    <tr>\n",
       "      <th>1893</th>\n",
       "      <td>1476701</td>\n",
       "      <td>292602</td>\n",
       "      <td>Chipotle Mexican Grill $1.99 Delivery</td>\n",
       "      <td>Mexican</td>\n",
       "      <td>22.31</td>\n",
       "      <td>Weekend</td>\n",
       "      <td>5</td>\n",
       "      <td>31</td>\n",
       "      <td>17</td>\n",
       "    </tr>\n",
       "    <tr>\n",
       "      <th>1894</th>\n",
       "      <td>1477421</td>\n",
       "      <td>397537</td>\n",
       "      <td>The Smile</td>\n",
       "      <td>American</td>\n",
       "      <td>12.18</td>\n",
       "      <td>Weekend</td>\n",
       "      <td>5</td>\n",
       "      <td>31</td>\n",
       "      <td>19</td>\n",
       "    </tr>\n",
       "    <tr>\n",
       "      <th>1895</th>\n",
       "      <td>1477819</td>\n",
       "      <td>35309</td>\n",
       "      <td>Blue Ribbon Sushi</td>\n",
       "      <td>Japanese</td>\n",
       "      <td>25.22</td>\n",
       "      <td>Weekday</td>\n",
       "      <td>Not given</td>\n",
       "      <td>31</td>\n",
       "      <td>24</td>\n",
       "    </tr>\n",
       "    <tr>\n",
       "      <th>1896</th>\n",
       "      <td>1477513</td>\n",
       "      <td>64151</td>\n",
       "      <td>Jack's Wife Freda</td>\n",
       "      <td>Mediterranean</td>\n",
       "      <td>12.18</td>\n",
       "      <td>Weekday</td>\n",
       "      <td>5</td>\n",
       "      <td>23</td>\n",
       "      <td>31</td>\n",
       "    </tr>\n",
       "    <tr>\n",
       "      <th>1897</th>\n",
       "      <td>1478056</td>\n",
       "      <td>120353</td>\n",
       "      <td>Blue Ribbon Sushi</td>\n",
       "      <td>Japanese</td>\n",
       "      <td>19.45</td>\n",
       "      <td>Weekend</td>\n",
       "      <td>Not given</td>\n",
       "      <td>28</td>\n",
       "      <td>24</td>\n",
       "    </tr>\n",
       "  </tbody>\n",
       "</table>\n",
       "<p>1898 rows × 9 columns</p>\n",
       "</div>"
      ],
      "text/plain": [
       "      order_id  customer_id                        restaurant_name  \\\n",
       "0      1477147       337525                                Hangawi   \n",
       "1      1477685       358141              Blue Ribbon Sushi Izakaya   \n",
       "2      1477070        66393                            Cafe Habana   \n",
       "3      1477334       106968              Blue Ribbon Fried Chicken   \n",
       "4      1478249        76942                       Dirty Bird to Go   \n",
       "...        ...          ...                                    ...   \n",
       "1893   1476701       292602  Chipotle Mexican Grill $1.99 Delivery   \n",
       "1894   1477421       397537                              The Smile   \n",
       "1895   1477819        35309                      Blue Ribbon Sushi   \n",
       "1896   1477513        64151                      Jack's Wife Freda   \n",
       "1897   1478056       120353                      Blue Ribbon Sushi   \n",
       "\n",
       "       cuisine_type  cost_of_the_order day_of_the_week     rating  \\\n",
       "0            Korean              30.75         Weekend  Not given   \n",
       "1          Japanese              12.08         Weekend  Not given   \n",
       "2           Mexican              12.23         Weekday          5   \n",
       "3          American              29.20         Weekend          3   \n",
       "4          American              11.59         Weekday          4   \n",
       "...             ...                ...             ...        ...   \n",
       "1893        Mexican              22.31         Weekend          5   \n",
       "1894       American              12.18         Weekend          5   \n",
       "1895       Japanese              25.22         Weekday  Not given   \n",
       "1896  Mediterranean              12.18         Weekday          5   \n",
       "1897       Japanese              19.45         Weekend  Not given   \n",
       "\n",
       "      food_preparation_time  delivery_time  \n",
       "0                        25             20  \n",
       "1                        25             23  \n",
       "2                        23             28  \n",
       "3                        25             15  \n",
       "4                        25             24  \n",
       "...                     ...            ...  \n",
       "1893                     31             17  \n",
       "1894                     31             19  \n",
       "1895                     31             24  \n",
       "1896                     23             31  \n",
       "1897                     28             24  \n",
       "\n",
       "[1898 rows x 9 columns]"
      ]
     },
     "execution_count": 2,
     "metadata": {},
     "output_type": "execute_result"
    }
   ],
   "source": [
    "import pandas as pd\n",
    "\n",
    "filepath = 'D:\\Projects\\Delivery_data_analysis\\\\food_order.csv'\n",
    "df = pd.read_csv(filepath)\n",
    "df"
   ]
  },
  {
   "cell_type": "code",
   "execution_count": 3,
   "metadata": {},
   "outputs": [
    {
     "data": {
      "text/plain": [
       "order_id                   int64\n",
       "customer_id                int64\n",
       "restaurant_name           object\n",
       "cuisine_type              object\n",
       "cost_of_the_order        float64\n",
       "day_of_the_week           object\n",
       "rating                    object\n",
       "food_preparation_time      int64\n",
       "delivery_time              int64\n",
       "dtype: object"
      ]
     },
     "execution_count": 3,
     "metadata": {},
     "output_type": "execute_result"
    }
   ],
   "source": [
    "# check the data types\n",
    "df.dtypes"
   ]
  },
  {
   "cell_type": "code",
   "execution_count": 4,
   "metadata": {},
   "outputs": [
    {
     "name": "stdout",
     "output_type": "stream",
     "text": [
      "<class 'pandas.core.frame.DataFrame'>\n",
      "RangeIndex: 1898 entries, 0 to 1897\n",
      "Data columns (total 9 columns):\n",
      " #   Column                 Non-Null Count  Dtype  \n",
      "---  ------                 --------------  -----  \n",
      " 0   order_id               1898 non-null   int64  \n",
      " 1   customer_id            1898 non-null   int64  \n",
      " 2   restaurant_name        1898 non-null   object \n",
      " 3   cuisine_type           1898 non-null   object \n",
      " 4   cost_of_the_order      1898 non-null   float64\n",
      " 5   day_of_the_week        1898 non-null   object \n",
      " 6   rating                 1898 non-null   object \n",
      " 7   food_preparation_time  1898 non-null   int64  \n",
      " 8   delivery_time          1898 non-null   int64  \n",
      "dtypes: float64(1), int64(4), object(4)\n",
      "memory usage: 133.6+ KB\n"
     ]
    }
   ],
   "source": [
    "df.info()"
   ]
  },
  {
   "cell_type": "code",
   "execution_count": 5,
   "metadata": {},
   "outputs": [
    {
     "data": {
      "text/html": [
       "<div>\n",
       "<style scoped>\n",
       "    .dataframe tbody tr th:only-of-type {\n",
       "        vertical-align: middle;\n",
       "    }\n",
       "\n",
       "    .dataframe tbody tr th {\n",
       "        vertical-align: top;\n",
       "    }\n",
       "\n",
       "    .dataframe thead th {\n",
       "        text-align: right;\n",
       "    }\n",
       "</style>\n",
       "<table border=\"1\" class=\"dataframe\">\n",
       "  <thead>\n",
       "    <tr style=\"text-align: right;\">\n",
       "      <th></th>\n",
       "      <th>order_id</th>\n",
       "      <th>customer_id</th>\n",
       "      <th>restaurant_name</th>\n",
       "      <th>cuisine_type</th>\n",
       "      <th>cost_of_the_order</th>\n",
       "      <th>day_of_the_week</th>\n",
       "      <th>rating</th>\n",
       "      <th>food_preparation_time</th>\n",
       "      <th>delivery_time</th>\n",
       "    </tr>\n",
       "  </thead>\n",
       "  <tbody>\n",
       "    <tr>\n",
       "      <th>count</th>\n",
       "      <td>1.898000e+03</td>\n",
       "      <td>1898.000000</td>\n",
       "      <td>1898</td>\n",
       "      <td>1898</td>\n",
       "      <td>1898.000000</td>\n",
       "      <td>1898</td>\n",
       "      <td>1898</td>\n",
       "      <td>1898.000000</td>\n",
       "      <td>1898.000000</td>\n",
       "    </tr>\n",
       "    <tr>\n",
       "      <th>unique</th>\n",
       "      <td>NaN</td>\n",
       "      <td>NaN</td>\n",
       "      <td>178</td>\n",
       "      <td>14</td>\n",
       "      <td>NaN</td>\n",
       "      <td>2</td>\n",
       "      <td>4</td>\n",
       "      <td>NaN</td>\n",
       "      <td>NaN</td>\n",
       "    </tr>\n",
       "    <tr>\n",
       "      <th>top</th>\n",
       "      <td>NaN</td>\n",
       "      <td>NaN</td>\n",
       "      <td>Shake Shack</td>\n",
       "      <td>American</td>\n",
       "      <td>NaN</td>\n",
       "      <td>Weekend</td>\n",
       "      <td>Not given</td>\n",
       "      <td>NaN</td>\n",
       "      <td>NaN</td>\n",
       "    </tr>\n",
       "    <tr>\n",
       "      <th>freq</th>\n",
       "      <td>NaN</td>\n",
       "      <td>NaN</td>\n",
       "      <td>219</td>\n",
       "      <td>584</td>\n",
       "      <td>NaN</td>\n",
       "      <td>1351</td>\n",
       "      <td>736</td>\n",
       "      <td>NaN</td>\n",
       "      <td>NaN</td>\n",
       "    </tr>\n",
       "    <tr>\n",
       "      <th>mean</th>\n",
       "      <td>1.477496e+06</td>\n",
       "      <td>171168.478398</td>\n",
       "      <td>NaN</td>\n",
       "      <td>NaN</td>\n",
       "      <td>16.498851</td>\n",
       "      <td>NaN</td>\n",
       "      <td>NaN</td>\n",
       "      <td>27.371970</td>\n",
       "      <td>24.161749</td>\n",
       "    </tr>\n",
       "    <tr>\n",
       "      <th>std</th>\n",
       "      <td>5.480497e+02</td>\n",
       "      <td>113698.139743</td>\n",
       "      <td>NaN</td>\n",
       "      <td>NaN</td>\n",
       "      <td>7.483812</td>\n",
       "      <td>NaN</td>\n",
       "      <td>NaN</td>\n",
       "      <td>4.632481</td>\n",
       "      <td>4.972637</td>\n",
       "    </tr>\n",
       "    <tr>\n",
       "      <th>min</th>\n",
       "      <td>1.476547e+06</td>\n",
       "      <td>1311.000000</td>\n",
       "      <td>NaN</td>\n",
       "      <td>NaN</td>\n",
       "      <td>4.470000</td>\n",
       "      <td>NaN</td>\n",
       "      <td>NaN</td>\n",
       "      <td>20.000000</td>\n",
       "      <td>15.000000</td>\n",
       "    </tr>\n",
       "    <tr>\n",
       "      <th>25%</th>\n",
       "      <td>1.477021e+06</td>\n",
       "      <td>77787.750000</td>\n",
       "      <td>NaN</td>\n",
       "      <td>NaN</td>\n",
       "      <td>12.080000</td>\n",
       "      <td>NaN</td>\n",
       "      <td>NaN</td>\n",
       "      <td>23.000000</td>\n",
       "      <td>20.000000</td>\n",
       "    </tr>\n",
       "    <tr>\n",
       "      <th>50%</th>\n",
       "      <td>1.477496e+06</td>\n",
       "      <td>128600.000000</td>\n",
       "      <td>NaN</td>\n",
       "      <td>NaN</td>\n",
       "      <td>14.140000</td>\n",
       "      <td>NaN</td>\n",
       "      <td>NaN</td>\n",
       "      <td>27.000000</td>\n",
       "      <td>25.000000</td>\n",
       "    </tr>\n",
       "    <tr>\n",
       "      <th>75%</th>\n",
       "      <td>1.477970e+06</td>\n",
       "      <td>270525.000000</td>\n",
       "      <td>NaN</td>\n",
       "      <td>NaN</td>\n",
       "      <td>22.297500</td>\n",
       "      <td>NaN</td>\n",
       "      <td>NaN</td>\n",
       "      <td>31.000000</td>\n",
       "      <td>28.000000</td>\n",
       "    </tr>\n",
       "    <tr>\n",
       "      <th>max</th>\n",
       "      <td>1.478444e+06</td>\n",
       "      <td>405334.000000</td>\n",
       "      <td>NaN</td>\n",
       "      <td>NaN</td>\n",
       "      <td>35.410000</td>\n",
       "      <td>NaN</td>\n",
       "      <td>NaN</td>\n",
       "      <td>35.000000</td>\n",
       "      <td>33.000000</td>\n",
       "    </tr>\n",
       "  </tbody>\n",
       "</table>\n",
       "</div>"
      ],
      "text/plain": [
       "            order_id    customer_id restaurant_name cuisine_type  \\\n",
       "count   1.898000e+03    1898.000000            1898         1898   \n",
       "unique           NaN            NaN             178           14   \n",
       "top              NaN            NaN     Shake Shack     American   \n",
       "freq             NaN            NaN             219          584   \n",
       "mean    1.477496e+06  171168.478398             NaN          NaN   \n",
       "std     5.480497e+02  113698.139743             NaN          NaN   \n",
       "min     1.476547e+06    1311.000000             NaN          NaN   \n",
       "25%     1.477021e+06   77787.750000             NaN          NaN   \n",
       "50%     1.477496e+06  128600.000000             NaN          NaN   \n",
       "75%     1.477970e+06  270525.000000             NaN          NaN   \n",
       "max     1.478444e+06  405334.000000             NaN          NaN   \n",
       "\n",
       "        cost_of_the_order day_of_the_week     rating  food_preparation_time  \\\n",
       "count         1898.000000            1898       1898            1898.000000   \n",
       "unique                NaN               2          4                    NaN   \n",
       "top                   NaN         Weekend  Not given                    NaN   \n",
       "freq                  NaN            1351        736                    NaN   \n",
       "mean            16.498851             NaN        NaN              27.371970   \n",
       "std              7.483812             NaN        NaN               4.632481   \n",
       "min              4.470000             NaN        NaN              20.000000   \n",
       "25%             12.080000             NaN        NaN              23.000000   \n",
       "50%             14.140000             NaN        NaN              27.000000   \n",
       "75%             22.297500             NaN        NaN              31.000000   \n",
       "max             35.410000             NaN        NaN              35.000000   \n",
       "\n",
       "        delivery_time  \n",
       "count     1898.000000  \n",
       "unique            NaN  \n",
       "top               NaN  \n",
       "freq              NaN  \n",
       "mean        24.161749  \n",
       "std          4.972637  \n",
       "min         15.000000  \n",
       "25%         20.000000  \n",
       "50%         25.000000  \n",
       "75%         28.000000  \n",
       "max         33.000000  "
      ]
     },
     "execution_count": 5,
     "metadata": {},
     "output_type": "execute_result"
    }
   ],
   "source": [
    "# as we have object data we should see them also\n",
    "df.describe(include='all')"
   ]
  },
  {
   "cell_type": "markdown",
   "metadata": {},
   "source": [
    "### Data Wrangling\n"
   ]
  },
  {
   "cell_type": "code",
   "execution_count": 6,
   "metadata": {},
   "outputs": [
    {
     "data": {
      "text/html": [
       "<div>\n",
       "<style scoped>\n",
       "    .dataframe tbody tr th:only-of-type {\n",
       "        vertical-align: middle;\n",
       "    }\n",
       "\n",
       "    .dataframe tbody tr th {\n",
       "        vertical-align: top;\n",
       "    }\n",
       "\n",
       "    .dataframe thead th {\n",
       "        text-align: right;\n",
       "    }\n",
       "</style>\n",
       "<table border=\"1\" class=\"dataframe\">\n",
       "  <thead>\n",
       "    <tr style=\"text-align: right;\">\n",
       "      <th></th>\n",
       "      <th>order_id</th>\n",
       "      <th>customer_id</th>\n",
       "      <th>restaurant_name</th>\n",
       "      <th>cuisine_type</th>\n",
       "      <th>cost_of_the_order</th>\n",
       "      <th>day_of_the_week</th>\n",
       "      <th>rating</th>\n",
       "      <th>food_preparation_time</th>\n",
       "      <th>delivery_time</th>\n",
       "    </tr>\n",
       "  </thead>\n",
       "  <tbody>\n",
       "    <tr>\n",
       "      <th>0</th>\n",
       "      <td>False</td>\n",
       "      <td>False</td>\n",
       "      <td>False</td>\n",
       "      <td>False</td>\n",
       "      <td>False</td>\n",
       "      <td>False</td>\n",
       "      <td>False</td>\n",
       "      <td>False</td>\n",
       "      <td>False</td>\n",
       "    </tr>\n",
       "    <tr>\n",
       "      <th>1</th>\n",
       "      <td>False</td>\n",
       "      <td>False</td>\n",
       "      <td>False</td>\n",
       "      <td>False</td>\n",
       "      <td>False</td>\n",
       "      <td>False</td>\n",
       "      <td>False</td>\n",
       "      <td>False</td>\n",
       "      <td>False</td>\n",
       "    </tr>\n",
       "    <tr>\n",
       "      <th>2</th>\n",
       "      <td>False</td>\n",
       "      <td>False</td>\n",
       "      <td>False</td>\n",
       "      <td>False</td>\n",
       "      <td>False</td>\n",
       "      <td>False</td>\n",
       "      <td>False</td>\n",
       "      <td>False</td>\n",
       "      <td>False</td>\n",
       "    </tr>\n",
       "    <tr>\n",
       "      <th>3</th>\n",
       "      <td>False</td>\n",
       "      <td>False</td>\n",
       "      <td>False</td>\n",
       "      <td>False</td>\n",
       "      <td>False</td>\n",
       "      <td>False</td>\n",
       "      <td>False</td>\n",
       "      <td>False</td>\n",
       "      <td>False</td>\n",
       "    </tr>\n",
       "    <tr>\n",
       "      <th>4</th>\n",
       "      <td>False</td>\n",
       "      <td>False</td>\n",
       "      <td>False</td>\n",
       "      <td>False</td>\n",
       "      <td>False</td>\n",
       "      <td>False</td>\n",
       "      <td>False</td>\n",
       "      <td>False</td>\n",
       "      <td>False</td>\n",
       "    </tr>\n",
       "    <tr>\n",
       "      <th>...</th>\n",
       "      <td>...</td>\n",
       "      <td>...</td>\n",
       "      <td>...</td>\n",
       "      <td>...</td>\n",
       "      <td>...</td>\n",
       "      <td>...</td>\n",
       "      <td>...</td>\n",
       "      <td>...</td>\n",
       "      <td>...</td>\n",
       "    </tr>\n",
       "    <tr>\n",
       "      <th>1893</th>\n",
       "      <td>False</td>\n",
       "      <td>False</td>\n",
       "      <td>False</td>\n",
       "      <td>False</td>\n",
       "      <td>False</td>\n",
       "      <td>False</td>\n",
       "      <td>False</td>\n",
       "      <td>False</td>\n",
       "      <td>False</td>\n",
       "    </tr>\n",
       "    <tr>\n",
       "      <th>1894</th>\n",
       "      <td>False</td>\n",
       "      <td>False</td>\n",
       "      <td>False</td>\n",
       "      <td>False</td>\n",
       "      <td>False</td>\n",
       "      <td>False</td>\n",
       "      <td>False</td>\n",
       "      <td>False</td>\n",
       "      <td>False</td>\n",
       "    </tr>\n",
       "    <tr>\n",
       "      <th>1895</th>\n",
       "      <td>False</td>\n",
       "      <td>False</td>\n",
       "      <td>False</td>\n",
       "      <td>False</td>\n",
       "      <td>False</td>\n",
       "      <td>False</td>\n",
       "      <td>False</td>\n",
       "      <td>False</td>\n",
       "      <td>False</td>\n",
       "    </tr>\n",
       "    <tr>\n",
       "      <th>1896</th>\n",
       "      <td>False</td>\n",
       "      <td>False</td>\n",
       "      <td>False</td>\n",
       "      <td>False</td>\n",
       "      <td>False</td>\n",
       "      <td>False</td>\n",
       "      <td>False</td>\n",
       "      <td>False</td>\n",
       "      <td>False</td>\n",
       "    </tr>\n",
       "    <tr>\n",
       "      <th>1897</th>\n",
       "      <td>False</td>\n",
       "      <td>False</td>\n",
       "      <td>False</td>\n",
       "      <td>False</td>\n",
       "      <td>False</td>\n",
       "      <td>False</td>\n",
       "      <td>False</td>\n",
       "      <td>False</td>\n",
       "      <td>False</td>\n",
       "    </tr>\n",
       "  </tbody>\n",
       "</table>\n",
       "<p>1898 rows × 9 columns</p>\n",
       "</div>"
      ],
      "text/plain": [
       "      order_id  customer_id  restaurant_name  cuisine_type  cost_of_the_order  \\\n",
       "0        False        False            False         False              False   \n",
       "1        False        False            False         False              False   \n",
       "2        False        False            False         False              False   \n",
       "3        False        False            False         False              False   \n",
       "4        False        False            False         False              False   \n",
       "...        ...          ...              ...           ...                ...   \n",
       "1893     False        False            False         False              False   \n",
       "1894     False        False            False         False              False   \n",
       "1895     False        False            False         False              False   \n",
       "1896     False        False            False         False              False   \n",
       "1897     False        False            False         False              False   \n",
       "\n",
       "      day_of_the_week  rating  food_preparation_time  delivery_time  \n",
       "0               False   False                  False          False  \n",
       "1               False   False                  False          False  \n",
       "2               False   False                  False          False  \n",
       "3               False   False                  False          False  \n",
       "4               False   False                  False          False  \n",
       "...               ...     ...                    ...            ...  \n",
       "1893            False   False                  False          False  \n",
       "1894            False   False                  False          False  \n",
       "1895            False   False                  False          False  \n",
       "1896            False   False                  False          False  \n",
       "1897            False   False                  False          False  \n",
       "\n",
       "[1898 rows x 9 columns]"
      ]
     },
     "execution_count": 6,
     "metadata": {},
     "output_type": "execute_result"
    }
   ],
   "source": [
    "# we may use visualization tools\n",
    "import matplotlib.pylab as plt\n",
    "\n",
    "# evaluating missing data\n",
    "missing_data = df.isnull()\n",
    "missing_data"
   ]
  },
  {
   "cell_type": "code",
   "execution_count": 7,
   "metadata": {},
   "outputs": [
    {
     "name": "stdout",
     "output_type": "stream",
     "text": [
      "order_id\n",
      "order_id\n",
      "False    1898\n",
      "Name: count, dtype: int64\n",
      "\n",
      "customer_id\n",
      "customer_id\n",
      "False    1898\n",
      "Name: count, dtype: int64\n",
      "\n",
      "restaurant_name\n",
      "restaurant_name\n",
      "False    1898\n",
      "Name: count, dtype: int64\n",
      "\n",
      "cuisine_type\n",
      "cuisine_type\n",
      "False    1898\n",
      "Name: count, dtype: int64\n",
      "\n",
      "cost_of_the_order\n",
      "cost_of_the_order\n",
      "False    1898\n",
      "Name: count, dtype: int64\n",
      "\n",
      "day_of_the_week\n",
      "day_of_the_week\n",
      "False    1898\n",
      "Name: count, dtype: int64\n",
      "\n",
      "rating\n",
      "rating\n",
      "False    1898\n",
      "Name: count, dtype: int64\n",
      "\n",
      "food_preparation_time\n",
      "food_preparation_time\n",
      "False    1898\n",
      "Name: count, dtype: int64\n",
      "\n",
      "delivery_time\n",
      "delivery_time\n",
      "False    1898\n",
      "Name: count, dtype: int64\n",
      "\n"
     ]
    }
   ],
   "source": [
    "for column in missing_data.columns.values.tolist():\n",
    "    print(column)\n",
    "    print (missing_data[column].value_counts())\n",
    "    print(\"\")  "
   ]
  },
  {
   "cell_type": "markdown",
   "metadata": {},
   "source": [
    "As shown above, each column has 1898 rows of data and all of them do not contain missing value. But Rating column has object data and it has categorial data which can be used for analysis and 'Not Given'. As we see, in df.info(), the 'Not Given' value's frequency is 736 which is large number. If we remove these values, they may need for future analysis. For now just leave it as that."
   ]
  },
  {
   "cell_type": "markdown",
   "metadata": {},
   "source": [
    "### Binning"
   ]
  },
  {
   "cell_type": "code",
   "execution_count": 8,
   "metadata": {},
   "outputs": [
    {
     "data": {
      "text/html": [
       "<div>\n",
       "<style scoped>\n",
       "    .dataframe tbody tr th:only-of-type {\n",
       "        vertical-align: middle;\n",
       "    }\n",
       "\n",
       "    .dataframe tbody tr th {\n",
       "        vertical-align: top;\n",
       "    }\n",
       "\n",
       "    .dataframe thead th {\n",
       "        text-align: right;\n",
       "    }\n",
       "</style>\n",
       "<table border=\"1\" class=\"dataframe\">\n",
       "  <thead>\n",
       "    <tr style=\"text-align: right;\">\n",
       "      <th></th>\n",
       "      <th>cost_of_the_order</th>\n",
       "      <th>cost_of_the_order_binned</th>\n",
       "    </tr>\n",
       "  </thead>\n",
       "  <tbody>\n",
       "    <tr>\n",
       "      <th>0</th>\n",
       "      <td>30.75</td>\n",
       "      <td>High</td>\n",
       "    </tr>\n",
       "    <tr>\n",
       "      <th>1</th>\n",
       "      <td>12.08</td>\n",
       "      <td>Low</td>\n",
       "    </tr>\n",
       "    <tr>\n",
       "      <th>2</th>\n",
       "      <td>12.23</td>\n",
       "      <td>Low</td>\n",
       "    </tr>\n",
       "    <tr>\n",
       "      <th>3</th>\n",
       "      <td>29.20</td>\n",
       "      <td>High</td>\n",
       "    </tr>\n",
       "    <tr>\n",
       "      <th>4</th>\n",
       "      <td>11.59</td>\n",
       "      <td>Low</td>\n",
       "    </tr>\n",
       "    <tr>\n",
       "      <th>...</th>\n",
       "      <td>...</td>\n",
       "      <td>...</td>\n",
       "    </tr>\n",
       "    <tr>\n",
       "      <th>1893</th>\n",
       "      <td>22.31</td>\n",
       "      <td>Medium</td>\n",
       "    </tr>\n",
       "    <tr>\n",
       "      <th>1894</th>\n",
       "      <td>12.18</td>\n",
       "      <td>Low</td>\n",
       "    </tr>\n",
       "    <tr>\n",
       "      <th>1895</th>\n",
       "      <td>25.22</td>\n",
       "      <td>High</td>\n",
       "    </tr>\n",
       "    <tr>\n",
       "      <th>1896</th>\n",
       "      <td>12.18</td>\n",
       "      <td>Low</td>\n",
       "    </tr>\n",
       "    <tr>\n",
       "      <th>1897</th>\n",
       "      <td>19.45</td>\n",
       "      <td>Medium</td>\n",
       "    </tr>\n",
       "  </tbody>\n",
       "</table>\n",
       "<p>1898 rows × 2 columns</p>\n",
       "</div>"
      ],
      "text/plain": [
       "      cost_of_the_order cost_of_the_order_binned\n",
       "0                 30.75                     High\n",
       "1                 12.08                      Low\n",
       "2                 12.23                      Low\n",
       "3                 29.20                     High\n",
       "4                 11.59                      Low\n",
       "...                 ...                      ...\n",
       "1893              22.31                   Medium\n",
       "1894              12.18                      Low\n",
       "1895              25.22                     High\n",
       "1896              12.18                      Low\n",
       "1897              19.45                   Medium\n",
       "\n",
       "[1898 rows x 2 columns]"
      ]
     },
     "execution_count": 8,
     "metadata": {},
     "output_type": "execute_result"
    }
   ],
   "source": [
    "import numpy as np \n",
    "\n",
    "bins = np.linspace(min(df['cost_of_the_order']), max(df['cost_of_the_order']), 4)\n",
    "group_names = ['Low', 'Medium', 'High']\n",
    "df['cost_of_the_order_binned'] = pd.cut(df['cost_of_the_order'], bins, labels=group_names, include_lowest=True)\n",
    "# let's see these two rows\n",
    "df[['cost_of_the_order', 'cost_of_the_order_binned']]"
   ]
  },
  {
   "cell_type": "code",
   "execution_count": 9,
   "metadata": {},
   "outputs": [
    {
     "data": {
      "text/plain": [
       "Text(0.5, 1.0, 'Cost of the order binned')"
      ]
     },
     "execution_count": 9,
     "metadata": {},
     "output_type": "execute_result"
    },
    {
     "data": {
      "image/png": "[encoded data removed]",
      "text/plain": [
       "<Figure size 640x480 with 1 Axes>"
      ]
     },
     "metadata": {},
     "output_type": "display_data"
    }
   ],
   "source": [
    "# let's plot the distribution of each bin\n",
    "import matplotlib.pyplot as plt\n",
    "\n",
    "plt.bar(group_names, df['cost_of_the_order_binned'].value_counts())\n",
    "plt.xlabel('Cost of the Order')\n",
    "plt.ylabel('Count')\n",
    "plt.title('Cost of the order binned')"
   ]
  },
  {
   "cell_type": "code",
   "execution_count": 10,
   "metadata": {},
   "outputs": [
    {
     "data": {
      "text/plain": [
       "Text(0.5, 1.0, 'Cost of the order binned')"
      ]
     },
     "execution_count": 10,
     "metadata": {},
     "output_type": "execute_result"
    },
    {
     "data": {
      "image/png": "[encoded data removed]",
      "text/plain": [
       "<Figure size 640x480 with 1 Axes>"
      ]
     },
     "metadata": {},
     "output_type": "display_data"
    }
   ],
   "source": [
    "# let's plot this as histogram\n",
    "# the process is the same as above but\n",
    "# pyplot.bar(group_names, df['cost_of_the_order_binned'].value_counts()) this will be replaced with this one\n",
    "plt.hist(df[\"cost_of_the_order\"], bins = 3)\n",
    "plt.xlabel('Cost of the Order')\n",
    "plt.ylabel('Count')\n",
    "plt.title('Cost of the order binned')\n"
   ]
  },
  {
   "cell_type": "markdown",
   "metadata": {},
   "source": [
    "### Exploratory Data Analysis"
   ]
  },
  {
   "cell_type": "markdown",
   "metadata": {},
   "source": [
    "Let's first look at the correlation between variables (features)"
   ]
  },
  {
   "cell_type": "code",
   "execution_count": 11,
   "metadata": {},
   "outputs": [
    {
     "data": {
      "text/html": [
       "<div>\n",
       "<style scoped>\n",
       "    .dataframe tbody tr th:only-of-type {\n",
       "        vertical-align: middle;\n",
       "    }\n",
       "\n",
       "    .dataframe tbody tr th {\n",
       "        vertical-align: top;\n",
       "    }\n",
       "\n",
       "    .dataframe thead th {\n",
       "        text-align: right;\n",
       "    }\n",
       "</style>\n",
       "<table border=\"1\" class=\"dataframe\">\n",
       "  <thead>\n",
       "    <tr style=\"text-align: right;\">\n",
       "      <th></th>\n",
       "      <th>cost_of_the_order</th>\n",
       "      <th>food_preparation_time</th>\n",
       "      <th>delivery_time</th>\n",
       "    </tr>\n",
       "  </thead>\n",
       "  <tbody>\n",
       "    <tr>\n",
       "      <th>cost_of_the_order</th>\n",
       "      <td>1.000000</td>\n",
       "      <td>0.041527</td>\n",
       "      <td>-0.029949</td>\n",
       "    </tr>\n",
       "    <tr>\n",
       "      <th>food_preparation_time</th>\n",
       "      <td>0.041527</td>\n",
       "      <td>1.000000</td>\n",
       "      <td>0.011094</td>\n",
       "    </tr>\n",
       "    <tr>\n",
       "      <th>delivery_time</th>\n",
       "      <td>-0.029949</td>\n",
       "      <td>0.011094</td>\n",
       "      <td>1.000000</td>\n",
       "    </tr>\n",
       "  </tbody>\n",
       "</table>\n",
       "</div>"
      ],
      "text/plain": [
       "                       cost_of_the_order  food_preparation_time  delivery_time\n",
       "cost_of_the_order               1.000000               0.041527      -0.029949\n",
       "food_preparation_time           0.041527               1.000000       0.011094\n",
       "delivery_time                  -0.029949               0.011094       1.000000"
      ]
     },
     "execution_count": 11,
     "metadata": {},
     "output_type": "execute_result"
    }
   ],
   "source": [
    "# first when we use correlation method, we must use only float or int columns\n",
    "df[['cost_of_the_order', 'food_preparation_time', 'delivery_time']].corr()\n",
    "# in our dataset these columns have float data and are essential, others such as order_id, customer_id are not essential"
   ]
  },
  {
   "cell_type": "markdown",
   "metadata": {},
   "source": [
    "As we see above frame, the correlation between cost of the order and the food preparation time is positive and about 0.042. Reversely, the correlation between the former and the delivery time is negative and it is also small, -0.030. If we see them in charts, they will look like that:"
   ]
  },
  {
   "cell_type": "code",
   "execution_count": 12,
   "metadata": {},
   "outputs": [
    {
     "data": {
      "text/plain": [
       "(0.0, 36.956999999999994)"
      ]
     },
     "execution_count": 12,
     "metadata": {},
     "output_type": "execute_result"
    },
    {
     "data": {
      "image/png": "[encoded data removed]",
      "text/plain": [
       "<Figure size 640x480 with 1 Axes>"
      ]
     },
     "metadata": {},
     "output_type": "display_data"
    }
   ],
   "source": [
    "import seaborn as sbn \n",
    "\n",
    "sbn.regplot(x = 'food_preparation_time', y = 'cost_of_the_order', data=df)\n",
    "plt.ylim(0,)\n",
    "\n"
   ]
  },
  {
   "cell_type": "code",
   "execution_count": 13,
   "metadata": {},
   "outputs": [
    {
     "data": {
      "text/plain": [
       "(0.0, 36.956999999999994)"
      ]
     },
     "execution_count": 13,
     "metadata": {},
     "output_type": "execute_result"
    },
    {
     "data": {
      "image/png": "[encoded data removed]",
      "text/plain": [
       "<Figure size 640x480 with 1 Axes>"
      ]
     },
     "metadata": {},
     "output_type": "display_data"
    }
   ],
   "source": [
    "sbn.regplot(x = 'delivery_time', y = 'cost_of_the_order', data=df)\n",
    "plt.ylim(0,)"
   ]
  },
  {
   "cell_type": "markdown",
   "metadata": {},
   "source": [
    "As we have seen above, the two regression lines are almost horizontal, thus these two variables are not good predictor for cost of the order."
   ]
  },
  {
   "cell_type": "markdown",
   "metadata": {},
   "source": [
    "Well let's see what restaurants and type of cuisine are popular"
   ]
  },
  {
   "cell_type": "code",
   "execution_count": 14,
   "metadata": {},
   "outputs": [
    {
     "data": {
      "text/html": [
       "<div>\n",
       "<style scoped>\n",
       "    .dataframe tbody tr th:only-of-type {\n",
       "        vertical-align: middle;\n",
       "    }\n",
       "\n",
       "    .dataframe tbody tr th {\n",
       "        vertical-align: top;\n",
       "    }\n",
       "\n",
       "    .dataframe thead th {\n",
       "        text-align: right;\n",
       "    }\n",
       "</style>\n",
       "<table border=\"1\" class=\"dataframe\">\n",
       "  <thead>\n",
       "    <tr style=\"text-align: right;\">\n",
       "      <th></th>\n",
       "      <th>order_id</th>\n",
       "      <th>customer_id</th>\n",
       "      <th>restaurant_name</th>\n",
       "      <th>cuisine_type</th>\n",
       "      <th>cost_of_the_order</th>\n",
       "      <th>day_of_the_week</th>\n",
       "      <th>rating</th>\n",
       "      <th>food_preparation_time</th>\n",
       "      <th>delivery_time</th>\n",
       "      <th>cost_of_the_order_binned</th>\n",
       "    </tr>\n",
       "  </thead>\n",
       "  <tbody>\n",
       "    <tr>\n",
       "      <th>0</th>\n",
       "      <td>1477147</td>\n",
       "      <td>337525</td>\n",
       "      <td>Hangawi</td>\n",
       "      <td>Korean</td>\n",
       "      <td>30.75</td>\n",
       "      <td>Weekend</td>\n",
       "      <td>Not given</td>\n",
       "      <td>25</td>\n",
       "      <td>20</td>\n",
       "      <td>High</td>\n",
       "    </tr>\n",
       "    <tr>\n",
       "      <th>1</th>\n",
       "      <td>1477685</td>\n",
       "      <td>358141</td>\n",
       "      <td>Blue Ribbon Sushi Izakaya</td>\n",
       "      <td>Japanese</td>\n",
       "      <td>12.08</td>\n",
       "      <td>Weekend</td>\n",
       "      <td>Not given</td>\n",
       "      <td>25</td>\n",
       "      <td>23</td>\n",
       "      <td>Low</td>\n",
       "    </tr>\n",
       "    <tr>\n",
       "      <th>2</th>\n",
       "      <td>1477070</td>\n",
       "      <td>66393</td>\n",
       "      <td>Cafe Habana</td>\n",
       "      <td>Mexican</td>\n",
       "      <td>12.23</td>\n",
       "      <td>Weekday</td>\n",
       "      <td>5</td>\n",
       "      <td>23</td>\n",
       "      <td>28</td>\n",
       "      <td>Low</td>\n",
       "    </tr>\n",
       "    <tr>\n",
       "      <th>3</th>\n",
       "      <td>1477334</td>\n",
       "      <td>106968</td>\n",
       "      <td>Blue Ribbon Fried Chicken</td>\n",
       "      <td>American</td>\n",
       "      <td>29.20</td>\n",
       "      <td>Weekend</td>\n",
       "      <td>3</td>\n",
       "      <td>25</td>\n",
       "      <td>15</td>\n",
       "      <td>High</td>\n",
       "    </tr>\n",
       "    <tr>\n",
       "      <th>4</th>\n",
       "      <td>1478249</td>\n",
       "      <td>76942</td>\n",
       "      <td>Dirty Bird to Go</td>\n",
       "      <td>American</td>\n",
       "      <td>11.59</td>\n",
       "      <td>Weekday</td>\n",
       "      <td>4</td>\n",
       "      <td>25</td>\n",
       "      <td>24</td>\n",
       "      <td>Low</td>\n",
       "    </tr>\n",
       "    <tr>\n",
       "      <th>...</th>\n",
       "      <td>...</td>\n",
       "      <td>...</td>\n",
       "      <td>...</td>\n",
       "      <td>...</td>\n",
       "      <td>...</td>\n",
       "      <td>...</td>\n",
       "      <td>...</td>\n",
       "      <td>...</td>\n",
       "      <td>...</td>\n",
       "      <td>...</td>\n",
       "    </tr>\n",
       "    <tr>\n",
       "      <th>1893</th>\n",
       "      <td>1476701</td>\n",
       "      <td>292602</td>\n",
       "      <td>Chipotle Mexican Grill $1.99 Delivery</td>\n",
       "      <td>Mexican</td>\n",
       "      <td>22.31</td>\n",
       "      <td>Weekend</td>\n",
       "      <td>5</td>\n",
       "      <td>31</td>\n",
       "      <td>17</td>\n",
       "      <td>Medium</td>\n",
       "    </tr>\n",
       "    <tr>\n",
       "      <th>1894</th>\n",
       "      <td>1477421</td>\n",
       "      <td>397537</td>\n",
       "      <td>The Smile</td>\n",
       "      <td>American</td>\n",
       "      <td>12.18</td>\n",
       "      <td>Weekend</td>\n",
       "      <td>5</td>\n",
       "      <td>31</td>\n",
       "      <td>19</td>\n",
       "      <td>Low</td>\n",
       "    </tr>\n",
       "    <tr>\n",
       "      <th>1895</th>\n",
       "      <td>1477819</td>\n",
       "      <td>35309</td>\n",
       "      <td>Blue Ribbon Sushi</td>\n",
       "      <td>Japanese</td>\n",
       "      <td>25.22</td>\n",
       "      <td>Weekday</td>\n",
       "      <td>Not given</td>\n",
       "      <td>31</td>\n",
       "      <td>24</td>\n",
       "      <td>High</td>\n",
       "    </tr>\n",
       "    <tr>\n",
       "      <th>1896</th>\n",
       "      <td>1477513</td>\n",
       "      <td>64151</td>\n",
       "      <td>Jack's Wife Freda</td>\n",
       "      <td>Mediterranean</td>\n",
       "      <td>12.18</td>\n",
       "      <td>Weekday</td>\n",
       "      <td>5</td>\n",
       "      <td>23</td>\n",
       "      <td>31</td>\n",
       "      <td>Low</td>\n",
       "    </tr>\n",
       "    <tr>\n",
       "      <th>1897</th>\n",
       "      <td>1478056</td>\n",
       "      <td>120353</td>\n",
       "      <td>Blue Ribbon Sushi</td>\n",
       "      <td>Japanese</td>\n",
       "      <td>19.45</td>\n",
       "      <td>Weekend</td>\n",
       "      <td>Not given</td>\n",
       "      <td>28</td>\n",
       "      <td>24</td>\n",
       "      <td>Medium</td>\n",
       "    </tr>\n",
       "  </tbody>\n",
       "</table>\n",
       "<p>1898 rows × 10 columns</p>\n",
       "</div>"
      ],
      "text/plain": [
       "      order_id  customer_id                        restaurant_name  \\\n",
       "0      1477147       337525                                Hangawi   \n",
       "1      1477685       358141              Blue Ribbon Sushi Izakaya   \n",
       "2      1477070        66393                            Cafe Habana   \n",
       "3      1477334       106968              Blue Ribbon Fried Chicken   \n",
       "4      1478249        76942                       Dirty Bird to Go   \n",
       "...        ...          ...                                    ...   \n",
       "1893   1476701       292602  Chipotle Mexican Grill $1.99 Delivery   \n",
       "1894   1477421       397537                              The Smile   \n",
       "1895   1477819        35309                      Blue Ribbon Sushi   \n",
       "1896   1477513        64151                      Jack's Wife Freda   \n",
       "1897   1478056       120353                      Blue Ribbon Sushi   \n",
       "\n",
       "       cuisine_type  cost_of_the_order day_of_the_week     rating  \\\n",
       "0            Korean              30.75         Weekend  Not given   \n",
       "1          Japanese              12.08         Weekend  Not given   \n",
       "2           Mexican              12.23         Weekday          5   \n",
       "3          American              29.20         Weekend          3   \n",
       "4          American              11.59         Weekday          4   \n",
       "...             ...                ...             ...        ...   \n",
       "1893        Mexican              22.31         Weekend          5   \n",
       "1894       American              12.18         Weekend          5   \n",
       "1895       Japanese              25.22         Weekday  Not given   \n",
       "1896  Mediterranean              12.18         Weekday          5   \n",
       "1897       Japanese              19.45         Weekend  Not given   \n",
       "\n",
       "      food_preparation_time  delivery_time cost_of_the_order_binned  \n",
       "0                        25             20                     High  \n",
       "1                        25             23                      Low  \n",
       "2                        23             28                      Low  \n",
       "3                        25             15                     High  \n",
       "4                        25             24                      Low  \n",
       "...                     ...            ...                      ...  \n",
       "1893                     31             17                   Medium  \n",
       "1894                     31             19                      Low  \n",
       "1895                     31             24                     High  \n",
       "1896                     23             31                      Low  \n",
       "1897                     28             24                   Medium  \n",
       "\n",
       "[1898 rows x 10 columns]"
      ]
     },
     "execution_count": 14,
     "metadata": {},
     "output_type": "execute_result"
    }
   ],
   "source": [
    "df"
   ]
  },
  {
   "cell_type": "code",
   "execution_count": 15,
   "metadata": {},
   "outputs": [
    {
     "data": {
      "text/plain": [
       "restaurant_name          \n",
       "Shake Shack                  219\n",
       "The Meatball Shop            132\n",
       "Blue Ribbon Sushi            119\n",
       "Blue Ribbon Fried Chicken     96\n",
       "Parm                          68\n",
       "                            ... \n",
       "Klong                          1\n",
       "Kambi Ramen House              1\n",
       "Il Bambino                     1\n",
       "Hunan Manor                    1\n",
       "Lamarca Pasta                  1\n",
       "Name: count, Length: 178, dtype: int64"
      ]
     },
     "execution_count": 15,
     "metadata": {},
     "output_type": "execute_result"
    }
   ],
   "source": [
    "df[['restaurant_name']].value_counts()"
   ]
  },
  {
   "cell_type": "code",
   "execution_count": 16,
   "metadata": {},
   "outputs": [
    {
     "data": {
      "text/plain": [
       "cuisine_type  \n",
       "American          584\n",
       "Japanese          470\n",
       "Italian           298\n",
       "Chinese           215\n",
       "Mexican            77\n",
       "Indian             73\n",
       "Middle Eastern     49\n",
       "Mediterranean      46\n",
       "Thai               19\n",
       "French             18\n",
       "Southern           17\n",
       "Korean             13\n",
       "Spanish            12\n",
       "Vietnamese          7\n",
       "Name: count, dtype: int64"
      ]
     },
     "execution_count": 16,
     "metadata": {},
     "output_type": "execute_result"
    }
   ],
   "source": [
    "df[['cuisine_type']].value_counts()"
   ]
  },
  {
   "cell_type": "markdown",
   "metadata": {},
   "source": [
    "As we see, Shake Shack, The Meatball Shop, Blue Ribbon Sushi are popular restaurants, and American, Japanese, Italian, Chinese cuisines stand high. Let's see what types of cuisines these restaurants prepare."
   ]
  },
  {
   "cell_type": "code",
   "execution_count": 17,
   "metadata": {},
   "outputs": [
    {
     "data": {
      "text/plain": [
       "cuisine_type\n",
       "American    219\n",
       "Name: count, dtype: int64"
      ]
     },
     "execution_count": 17,
     "metadata": {},
     "output_type": "execute_result"
    }
   ],
   "source": [
    "df[df['restaurant_name']=='Shake Shack']['cuisine_type'].value_counts()"
   ]
  },
  {
   "cell_type": "code",
   "execution_count": 18,
   "metadata": {},
   "outputs": [
    {
     "data": {
      "text/plain": [
       "cuisine_type\n",
       "Italian     112\n",
       "American     20\n",
       "Name: count, dtype: int64"
      ]
     },
     "execution_count": 18,
     "metadata": {},
     "output_type": "execute_result"
    }
   ],
   "source": [
    "df[df['restaurant_name']=='The Meatball Shop']['cuisine_type'].value_counts()"
   ]
  },
  {
   "cell_type": "code",
   "execution_count": 19,
   "metadata": {},
   "outputs": [
    {
     "data": {
      "text/plain": [
       "cuisine_type\n",
       "Japanese    119\n",
       "Name: count, dtype: int64"
      ]
     },
     "execution_count": 19,
     "metadata": {},
     "output_type": "execute_result"
    }
   ],
   "source": [
    "df[df['restaurant_name']=='Blue Ribbon Sushi']['cuisine_type'].value_counts()"
   ]
  },
  {
   "cell_type": "markdown",
   "metadata": {},
   "source": [
    "We can conclude that\n",
    "- Shake Shack is American restaurant and it constitutes 37.5 percent of all American food order. There are may be other big distributor!\n",
    "- The Meatball Shop is mostly Italian restaurant but it also provides with American food. This restaurant also provided about 37.6 percent of Italian food\n",
    "- Blue Ribbon Sushi, as name suggests, is Japanese restaurant and this makes up roughly 25 percent of Japanese food order.\n",
    "Let's look if there are other distributors of these cuisines."
   ]
  },
  {
   "cell_type": "code",
   "execution_count": 20,
   "metadata": {},
   "outputs": [
    {
     "data": {
      "text/plain": [
       "restaurant_name\n",
       "Shake Shack                    219\n",
       "Blue Ribbon Fried Chicken       96\n",
       "Five Guys Burgers and Fries     29\n",
       "Bareburger                      27\n",
       "The Meatball Shop               20\n",
       "The Smile                       18\n",
       "J. G. Melon                     15\n",
       "Westville Hudson                15\n",
       "P.J. Clarke's                   15\n",
       "Burger Joint                    12\n",
       "S'MAC                           12\n",
       "Melt Shop                       11\n",
       "Cafeteria                        9\n",
       "Waverly Diner                    7\n",
       "Sarabeth's East                  7\n",
       "Sarabeth's Restaurant            7\n",
       "Lucky's Famous Burgers           6\n",
       "5 Napkin Burger                  5\n",
       "Delicatessen                     5\n",
       "Five Leaves                      4\n",
       "Dirty Bird to Go                 4\n",
       "Blue Ribbon Brooklyn             4\n",
       "Friend of a Farmer               3\n",
       "Dickson's Farmstand Meats        3\n",
       "Sarabeth's                       3\n",
       "Schnipper's Quality Kitchen      3\n",
       "Bubby's                          3\n",
       "Dirty Bird To Go (archived)      3\n",
       "The Odeon                        3\n",
       "DuMont Burger                    3\n",
       "brgr                             2\n",
       "Big Daddy's                      2\n",
       "Dig Inn Seasonal Market          1\n",
       "Alidoro                          1\n",
       "Moonstruck on Second             1\n",
       "67 Burger                        1\n",
       "Market Table                     1\n",
       "Lucky Strike                     1\n",
       "Rye House                        1\n",
       "Sarabeth's West                  1\n",
       "'wichcraft                       1\n",
       "Name: count, dtype: int64"
      ]
     },
     "execution_count": 20,
     "metadata": {},
     "output_type": "execute_result"
    }
   ],
   "source": [
    "df[df['cuisine_type'] == 'American']['restaurant_name'].value_counts()"
   ]
  },
  {
   "cell_type": "markdown",
   "metadata": {},
   "source": [
    "Above we can see the restaurants that deliver the American foods"
   ]
  },
  {
   "cell_type": "code",
   "execution_count": 21,
   "metadata": {},
   "outputs": [
    {
     "data": {
      "text/plain": [
       "restaurant_name\n",
       "The Meatball Shop               112\n",
       "Parm                             68\n",
       "Rubirosa                         37\n",
       "Osteria Morini                   14\n",
       "Otto Enoteca Pizzeria            12\n",
       "Pepe Rosso To Go                  7\n",
       "Serafina Fabulous Pizza           5\n",
       "Vezzo Thin Crust Pizza            5\n",
       "Tony's Di Napoli                  5\n",
       "da Umberto                        3\n",
       "Carmine's                         3\n",
       "Bistango                          2\n",
       "Olive Garden                      2\n",
       "Piccolo Angolo                    2\n",
       "Tarallucci e Vino Restaurant      2\n",
       "Aurora                            2\n",
       "UVA Wine Bar & Restaurant         2\n",
       "Zero Otto Nove                    2\n",
       "Paul & Jimmy's                    1\n",
       "Emporio                           1\n",
       "Coppola's East                    1\n",
       "Il Bambino                        1\n",
       "Le Zie 2000 Trattoria             1\n",
       "Lamarca Pasta                     1\n",
       "Gaia Italian Cafe                 1\n",
       "Galli Restaurant                  1\n",
       "La Follia                         1\n",
       "Cipriani Le Specialita            1\n",
       "Posto                             1\n",
       "Pepe Giallo                       1\n",
       "Frank Restaurant                  1\n",
       "Name: count, dtype: int64"
      ]
     },
     "execution_count": 21,
     "metadata": {},
     "output_type": "execute_result"
    }
   ],
   "source": [
    "df[df['cuisine_type'] == 'Italian']['restaurant_name'].value_counts()"
   ]
  },
  {
   "cell_type": "markdown",
   "metadata": {},
   "source": [
    "This is for Italian food."
   ]
  },
  {
   "cell_type": "code",
   "execution_count": 22,
   "metadata": {},
   "outputs": [
    {
     "data": {
      "text/plain": [
       "restaurant_name\n",
       "Blue Ribbon Sushi                119\n",
       "TAO                               49\n",
       "Blue Ribbon Sushi Bar & Grill     44\n",
       "Nobu Next Door                    42\n",
       "Sushi of Gari 46                  37\n",
       "Momoya                            30\n",
       "Blue Ribbon Sushi Izakaya         29\n",
       "Sushi of Gari Tribeca             24\n",
       "Yama Japanese Restaurant          18\n",
       "Sushi of Gari                     16\n",
       "Sushi Samba                       11\n",
       "Donburi-ya                         7\n",
       "Hatsuhana                          6\n",
       "Yama 49                            5\n",
       "Benihana                           5\n",
       "The Loop                           4\n",
       "Terakawa Ramen                     3\n",
       "Kanoyama                           3\n",
       "Go! Go! Curry!                     3\n",
       "Izakaya Ten                        3\n",
       "Asuka Sushi                        3\n",
       "Mira Sushi                         2\n",
       "Samurai Mama                       1\n",
       "Haru Gramercy Park                 1\n",
       "Hibino                             1\n",
       "Taro Sushi                         1\n",
       "Kambi Ramen House                  1\n",
       "Sushi Choshi                       1\n",
       "Hiroko's Place                     1\n",
       "Name: count, dtype: int64"
      ]
     },
     "execution_count": 22,
     "metadata": {},
     "output_type": "execute_result"
    }
   ],
   "source": [
    "df[df['cuisine_type'] == 'Japanese']['restaurant_name'].value_counts()"
   ]
  },
  {
   "cell_type": "markdown",
   "metadata": {},
   "source": [
    "This shows the Japanese restaurants. In the top restaurants above, we did not meet the Chinese cuisines, so let's see it."
   ]
  },
  {
   "cell_type": "code",
   "execution_count": 23,
   "metadata": {},
   "outputs": [
    {
     "data": {
      "text/plain": [
       "restaurant_name\n",
       "RedFarm Broadway               59\n",
       "RedFarm Hudson                 55\n",
       "Han Dynasty                    46\n",
       "Vanessa's Dumplings            13\n",
       "Xi'an Famous Foods              9\n",
       "Vanessa's Dumpling House        9\n",
       "CafÌ© China                     6\n",
       "Joe's Shanghai _Àü£¾÷´        4\n",
       "Grand Sichuan International     4\n",
       "Prosperity Dumpling             3\n",
       "Hot Kitchen                     2\n",
       "Big Wong Restaurant _¤¾Ñ¼      1\n",
       "Wo Hop Restaurant               1\n",
       "Philippe Chow                   1\n",
       "Hunan Manor                     1\n",
       "Wa Jeal                         1\n",
       "Name: count, dtype: int64"
      ]
     },
     "execution_count": 23,
     "metadata": {},
     "output_type": "execute_result"
    }
   ],
   "source": [
    "df[df['cuisine_type'] == 'Chinese']['restaurant_name'].value_counts()"
   ]
  },
  {
   "cell_type": "markdown",
   "metadata": {},
   "source": [
    "#### Let's illustrate all of these"
   ]
  },
  {
   "cell_type": "code",
   "execution_count": 29,
   "metadata": {},
   "outputs": [
    {
     "data": {
      "text/plain": [
       "Text(0.5, 1.0, 'Top Restaurants')"
      ]
     },
     "execution_count": 29,
     "metadata": {},
     "output_type": "execute_result"
    },
    {
     "data": {
      "image/png": "[encoded data removed]",
      "text/plain": [
       "<Figure size 640x480 with 1 Axes>"
      ]
     },
     "metadata": {},
     "output_type": "display_data"
    }
   ],
   "source": [
    "# we get 3 restaurants with high orders\n",
    "top_restaurants = df['restaurant_name'].value_counts().iloc[0:3]\n",
    "# we got 4 cuisines with high orders\n",
    "top_cuisines = df['cuisine_type'].value_counts().iloc[0:4]\n",
    "\n",
    "#let's plot these\n",
    "top_restaurants.T.plot(kind = 'bar')\n",
    "plt.xlabel('Restaurants')\n",
    "plt.ylabel('Number of Orders')\n",
    "plt.title('Top Restaurants')"
   ]
  },
  {
   "cell_type": "code",
   "execution_count": 30,
   "metadata": {},
   "outputs": [
    {
     "data": {
      "text/plain": [
       "Text(0.5, 1.0, 'Popular Restaurants')"
      ]
     },
     "execution_count": 30,
     "metadata": {},
     "output_type": "execute_result"
    },
    {
     "data": {
      "image/png": "[encoded data removed]",
      "text/plain": [
       "<Figure size 640x480 with 1 Axes>"
      ]
     },
     "metadata": {},
     "output_type": "display_data"
    }
   ],
   "source": [
    "# this one is for cuisines\n",
    "top_cuisines.T.plot(kind = 'bar')\n",
    "plt.xlabel('Cuisines')\n",
    "plt.ylabel('Number of Orders')\n",
    "plt.title('Popular Restaurants')"
   ]
  },
  {
   "cell_type": "markdown",
   "metadata": {},
   "source": [
    "### Conclusion\n",
    "Through analysing the data we can conclude followings:\n",
    "- Popular restaurants are : **Shake Shack**, **The Meatball Shop**, **Blue Ribbon Sushi**;\n",
    "- Popular cuisines are: **American**(584), **Japanese**(470), **Italian**(298), **Chinese**(215);\n",
    "- The major distributor of American cuisine is **Shake Shack** (219), others account for small proportions;\n",
    "- The major distributor of Japanese cuisine is **Blue Ribbon Sushi**(119) which is delivered about 3 times more than did each of its rivals;\n",
    "- The major distirbutor of Italian cuisine is **The Meatball Shop**(112). This also made up roughly twice as much as each of other restaurants;\n",
    "- The major distributors of Chinese cuisine is **RedFarm Broadway**(59), **RedFarm Hudson**(55), **Han Dynasty**(46)."
   ]
  }
 ],
 "metadata": {
  "kernelspec": {
   "display_name": "Python 3",
   "language": "python",
   "name": "python3"
  },
  "language_info": {
   "codemirror_mode": {
    "name": "ipython",
    "version": 3
   },
   "file_extension": ".py",
   "mimetype": "text/x-python",
   "name": "python",
   "nbconvert_exporter": "python",
   "pygments_lexer": "ipython3",
   "version": "3.11.2"
  }
 },
 "nbformat": 4,
 "nbformat_minor": 2
}
